{
  "nbformat": 4,
  "nbformat_minor": 0,
  "metadata": {
    "colab": {
      "provenance": []
    },
    "kernelspec": {
      "name": "python3",
      "display_name": "Python 3"
    },
    "language_info": {
      "name": "python"
    }
  },
  "cells": [
    {
      "cell_type": "markdown",
      "metadata": {
        "id": "RLBBKR7BOPaF"
      },
      "source": [
        "# Importing necessary libraries"
      ]
    },
    {
      "cell_type": "code",
      "metadata": {
        "id": "l0Y9z__aOK-M"
      },
      "source": [
        "import numpy as np\n",
        "import random\n",
        "import matplotlib.pyplot as plt"
      ],
      "execution_count": null,
      "outputs": []
    },
    {
      "cell_type": "code",
      "metadata": {
        "colab": {
          "base_uri": "https://localhost:8080/"
        },
        "id": "yzQWMYvYwKsn",
        "outputId": "80d48f2d-88ed-49fa-cc76-3c59ac85a3e9"
      },
      "source": [
        "np.random.normal(7,0.2,5)"
      ],
      "execution_count": null,
      "outputs": [
        {
          "output_type": "execute_result",
          "data": {
            "text/plain": [
              "array([6.82924502, 7.06632751, 6.84775438, 6.52713935, 7.31754429])"
            ]
          },
          "metadata": {
            "tags": []
          },
          "execution_count": 48
        }
      ]
    },
    {
      "cell_type": "markdown",
      "metadata": {
        "id": "VfAY0cCHOfik"
      },
      "source": [
        "# Program for sampling data from Gaussian Distribution"
      ]
    },
    {
      "cell_type": "code",
      "metadata": {
        "colab": {
          "base_uri": "https://localhost:8080/",
          "height": 295
        },
        "id": "fVi1nz5tQ7mx",
        "outputId": "783a1b9e-8ccc-46d3-94cc-79240a72c515"
      },
      "source": [
        "# Program for sampling data from Gaussian Distribution\n",
        "\n",
        "def pdf(x, mean, sd):\n",
        "    return (1/(((2*np.pi)**0.5)*sd))*np.exp(-0.5*((x - mean)/sd)**2)\n",
        "\n",
        "def sample_normal(mean, sd, n):\n",
        "    l = []\n",
        "    for j in range(n):\n",
        "      # p means ___\n",
        "        p = np.random.random()/2\n",
        "        if p > 0.49865:\n",
        "            x = round(3*sd, 3)\n",
        "        else:\n",
        "            x = 0\n",
        "            i = 0\n",
        "            step = sd/1000\n",
        "            while(i<p):\n",
        "                x = x + step\n",
        "                i = i + pdf(x,0,sd)*step\n",
        "        pn = np.random.randint(0,2)\n",
        "        if pn == 0:\n",
        "            l.append(round(mean - x, 3))\n",
        "        else:\n",
        "            l.append(round(mean + x, 3))\n",
        "    return l\n",
        "\n",
        "mean = 10\n",
        "sd = 3\n",
        "n = 500\n",
        "\n",
        "l = sample_normal(mean, sd, n)                       # sampling n samples\n",
        "\n",
        "plt.hist(l,20,(mean - 3*sd,mean + 3*sd))\n",
        "plt.xlabel('samples')\n",
        "plt.ylabel('frequency')\n",
        "plt.title('sample distribution')\n",
        "plt.show()"
      ],
      "execution_count": null,
      "outputs": [
        {
          "output_type": "display_data",
          "data": {
            "image/png": "[encoded data removed]",
            "text/plain": [
              "<Figure size 432x288 with 1 Axes>"
            ]
          },
          "metadata": {
            "tags": [],
            "needs_background": "light"
          }
        }
      ]
    },
    {
      "cell_type": "markdown",
      "metadata": {
        "id": "Loyt8PudOm9h"
      },
      "source": [
        "# Program for Gradient Descent"
      ]
    },
    {
      "cell_type": "code",
      "metadata": {
        "colab": {
          "base_uri": "https://localhost:8080/",
          "height": 398
        },
        "id": "xn2PW7guciLr",
        "outputId": "b212c391-9f8b-4762-8e26-b234f50eba7f"
      },
      "source": [
        "# Program for Gradient Descent\n",
        "\n",
        "def f(x):\n",
        "  return x**2 + 2*x\n",
        "\n",
        "def GDA(a):\n",
        "  error = []\n",
        "  n = random.random()*6 - 3\n",
        "  p1 = n\n",
        "  p2 = p1 - a*deriv(p1)\n",
        "  e = abs(f(p1) - f(p2))\n",
        "  error.append(f(p2))\n",
        "  while e > 0.00000001:\n",
        "    p1 = p2\n",
        "    p2 = p1 - a*deriv(p1)\n",
        "    e = abs(f(p1) - f(p2))\n",
        "    error.append(f(p2))\n",
        "  return p2, f(p2), error\n",
        "\n",
        "def deriv(x):\n",
        "  return 2*x + 2\n",
        "\n",
        "a = 0.01\n",
        "x,y,e = GDA(a)\n",
        "\n",
        "print('x = ' + str(x) + ', y = ' + str(y))\n",
        "print()\n",
        "print('number of iterations = ' + str(len(e)))\n",
        "print()\n",
        "\n",
        "itr = [i+1 for i in range(len(e))]\n",
        "\n",
        "plt.plot(itr,e)\n",
        "plt.xlabel('iterations')\n",
        "plt.ylabel('y')\n",
        "plt.show()\n",
        "\n",
        "print()\n",
        "print('initial cost = ' + str(e[0]))\n",
        "print('final cost = ' + str(e[-1]))"
      ],
      "execution_count": null,
      "outputs": [
        {
          "output_type": "stream",
          "text": [
            "x = -0.9995151560994555, y = -0.9999997649263921\n",
            "\n",
            "number of iterations = 426\n",
            "\n"
          ],
          "name": "stdout"
        },
        {
          "output_type": "display_data",
          "data": {
            "image/png": "[encoded data removed]",
            "text/plain": [
              "<Figure size 432x288 with 1 Axes>"
            ]
          },
          "metadata": {
            "tags": [],
            "needs_background": "light"
          }
        },
        {
          "output_type": "stream",
          "text": [
            "\n",
            "initial cost = 5.745894334788868\n",
            "final cost = -0.9999997649263921\n"
          ],
          "name": "stdout"
        }
      ]
    },
    {
      "cell_type": "markdown",
      "metadata": {
        "id": "R1ngyB--Oqzk"
      },
      "source": [
        "# Program for implementing Linear Regression using MSE"
      ]
    },
    {
      "cell_type": "code",
      "metadata": {
        "colab": {
          "base_uri": "https://localhost:8080/",
          "height": 675
        },
        "id": "CY0bUBgJe0Hs",
        "outputId": "a6b2901f-9c24-4988-e790-e31024e081e0"
      },
      "source": [
        "# Program for implementing Linear Regression using MSE\n",
        "\n",
        "def g(x):\n",
        "  return 2*x + 5 + 2*random.random() - 1\n",
        "\n",
        "def g_approx(x, p):\n",
        "  return p[0]*x + p[1]\n",
        "\n",
        "x = [x for x in np.arange(-5,5,0.1)]\n",
        "x = np.array(x)\n",
        "y = [g(x) for x in np.arange(-5,5,0.1)]\n",
        "y = np.array(y)\n",
        "\n",
        "def MSE(x,y,p):\n",
        "  s = 0\n",
        "  n = len(x)\n",
        "  for i in range(n):\n",
        "    s = s + (p[0]*x[i] + p[1] - y[i])**2\n",
        "  s = s/n\n",
        "  return s\n",
        "\n",
        "def del_p0(x,y,p):\n",
        "  n = len(x)\n",
        "  p0 = 0\n",
        "  for i in range(n):\n",
        "    p0 = p0 + 2*(p[0]*x[i] + p[1] - y[i])*x[i]\n",
        "  p0 = p0/n\n",
        "  return p0\n",
        "\n",
        "def del_p1(x,y,p):\n",
        "  n = len(x)\n",
        "  p1 = 0\n",
        "  for i in range(n):\n",
        "    p1 = p1 + 2*(p[0]*x[i] + p[1] - y[i])\n",
        "  p1 = p1/n\n",
        "  return p1\n",
        "\n",
        "def GDA_MSE(x,y,a):\n",
        "  mse = []\n",
        "  p = [random.random(), random.random()]\n",
        "  mse.append(MSE(x,y,p))\n",
        "  p0 = p[0]\n",
        "  p1 = p[1]\n",
        "  p0_new = p0 - a*del_p0(x,y,p)\n",
        "  p1_new = p1 - a*del_p1(x,y,p)\n",
        "  for i in range(1000):\n",
        "    p0 = p0_new\n",
        "    p1 = p1_new\n",
        "    p = [p0, p1]\n",
        "    mse.append(MSE(x,y,p))\n",
        "    p0_new = p0 - a*del_p0(x,y,p)\n",
        "    p1_new = p1 - a*del_p1(x,y,p)\n",
        "  return [p0_new, p1_new], mse\n",
        "\n",
        "a = 0.01\n",
        "p, mse = GDA_MSE(x,y,a)\n",
        "z = [g_approx(i,p) for i in x]\n",
        "z = np.array(z)\n",
        "n = len(mse)\n",
        "itr = [i+1 for i in range(n)]\n",
        "\n",
        "print('y = 2x + 5 (with noise)')\n",
        "print()\n",
        "print('y_obtained = ' + str(p[0]) + 'x + ' + str(p[1]))\n",
        "print()\n",
        "\n",
        "plt.plot(x,y, color = 'r', label = 'g(x)')\n",
        "plt.plot(x,z, color = 'b', label = 'g_approx(x)')\n",
        "plt.xlabel('x')\n",
        "plt.ylabel('y')\n",
        "plt.legend()\n",
        "plt.show()\n",
        "\n",
        "print()\n",
        "\n",
        "plt.plot(itr,mse)\n",
        "plt.xlabel('iterations')\n",
        "plt.ylabel('Mean Squared Error')\n",
        "plt.show()\n",
        "\n",
        "print()\n",
        "\n",
        "print('Initial MSE = ' + str(mse[0]))\n",
        "print('Final MSE = ' + str(mse[-1]))"
      ],
      "execution_count": null,
      "outputs": [
        {
          "output_type": "stream",
          "text": [
            "y = 2x + 5 (with noise)\n",
            "\n",
            "y_obtained = 2.0485733463359996x + 4.864904572727607\n",
            "\n"
          ],
          "name": "stdout"
        },
        {
          "output_type": "display_data",
          "data": {
            "image/png": "[encoded data removed]",
            "text/plain": [
              "<Figure size 432x288 with 1 Axes>"
            ]
          },
          "metadata": {
            "tags": [],
            "needs_background": "light"
          }
        },
        {
          "output_type": "stream",
          "text": [
            "\n"
          ],
          "name": "stdout"
        },
        {
          "output_type": "display_data",
          "data": {
            "image/png": "[encoded data removed]",
            "text/plain": [
              "<Figure size 432x288 with 1 Axes>"
            ]
          },
          "metadata": {
            "tags": [],
            "needs_background": "light"
          }
        },
        {
          "output_type": "stream",
          "text": [
            "\n",
            "Initial MSE = 37.96215321622456\n",
            "Final MSE = 0.2926826011039073\n"
          ],
          "name": "stdout"
        }
      ]
    },
    {
      "cell_type": "markdown",
      "metadata": {
        "id": "8AWPLADIgHOj"
      },
      "source": [
        "# Expectaton Maximization Algorithm"
      ]
    },
    {
      "cell_type": "code",
      "metadata": {
        "colab": {
          "base_uri": "https://localhost:8080/",
          "height": 531
        },
        "id": "6Ja5FhytKOkl",
        "outputId": "8aaa4e86-2913-4a8e-9889-c4a368238d2a"
      },
      "source": [
        "def EM(l, k):\n",
        "    n = len(l)\n",
        "    mini = min(l)\n",
        "    maxi = max(l)\n",
        "    span = maxi - mini\n",
        "    l[0] = l[0]/1\n",
        "    l = np.array(l)\n",
        "    p = []\n",
        "    for i in range(1,k+1):\n",
        "        p.append([mini + i*span/(k+1), span/3])\n",
        "    p[0][0] = p[0][0]/1\n",
        "    p = np.array(p)\n",
        "    lik = []\n",
        "    for j in range(k):\n",
        "        lik.append([pdf(l[i],p[j][0],p[j][1]) for i in range(n)])\n",
        "    lik[0][0] = lik[0][0]/1\n",
        "    lik = np.array(lik)\n",
        "    lik = lik/lik.sum(axis = 0)\n",
        "    p = p.T\n",
        "    for i in range(5000):\n",
        "        for j in range(k):\n",
        "            p[1][j] = ((((l - p[0][j])**2) @ lik[j]).sum()/lik[j].sum())**0.5\n",
        "        p[0] = (lik @ l)/lik.sum(axis = 1)\n",
        "        for i in range(k):\n",
        "            lik[i] = pdf(l,p[0][i],p[1][j])\n",
        "        lik = lik/lik.sum(axis = 0)\n",
        "    p = p.T\n",
        "    return p\n",
        "\n",
        "gaussians = np.array([[6,1],[10,1],[14,1]])\n",
        "\n",
        "d1 = sample_normal(6,1,500)    # mean = 6, variance = 1\n",
        "d2 = sample_normal(10,1,500)   # mean = 10, variance = 1\n",
        "d3 = sample_normal(14,1,500)   # mean = 14, variance = 1\n",
        "\n",
        "l1 = []\n",
        "l1 = l1 + d1 + d2 + d3\n",
        "\n",
        "print('The true (mean,variance) of the sets of data points are:')\n",
        "print()\n",
        "\n",
        "print(gaussians)\n",
        "print()\n",
        "\n",
        "print('The (mean,variance) of the clusters are:')\n",
        "print()\n",
        "\n",
        "p1 = EM(l1, 3)                 # number of clusters = 3\n",
        "\n",
        "print(p1)\n",
        "print()\n",
        "\n",
        "print()\n",
        "print('The data distribution is as follows:')\n",
        "print()\n",
        "\n",
        "plt.hist(l1, 50, (2,18))\n",
        "plt.xlabel('data points')\n",
        "plt.ylabel('frequency')\n",
        "plt.show()"
      ],
      "execution_count": null,
      "outputs": [
        {
          "output_type": "stream",
          "text": [
            "The true (mean,variance) of the sets of data points are:\n",
            "\n",
            "[[ 6  1]\n",
            " [10  1]\n",
            " [14  1]]\n",
            "\n",
            "The (mean,variance) of the clusters are:\n",
            "\n",
            "[[ 6.05975467  1.01506006]\n",
            " [ 9.97473906  0.97084038]\n",
            " [13.99860167  1.00268597]]\n",
            "\n",
            "\n",
            "The data distribution is as follows:\n",
            "\n"
          ],
          "name": "stdout"
        },
        {
          "output_type": "display_data",
          "data": {
            "image/png": "[encoded data removed]",
            "text/plain": [
              "<Figure size 432x288 with 1 Axes>"
            ]
          },
          "metadata": {
            "tags": [],
            "needs_background": "light"
          }
        }
      ]
    },
    {
      "cell_type": "markdown",
      "metadata": {
        "id": "Fc3nMVfDGyrB"
      },
      "source": [
        "# Logistic Regression using GDA and sigmoid function to get (a,b)"
      ]
    },
    {
      "cell_type": "code",
      "metadata": {
        "colab": {
          "base_uri": "https://localhost:8080/",
          "height": 675
        },
        "id": "eVAFpNB_HEgn",
        "outputId": "b5dc4f08-0942-4986-ed33-cc3a44effac5"
      },
      "source": [
        "def MSE_log_reg(l,p,n):\n",
        "    return abs((l[1]*np.log(sig(l[0],p[0],p[1])) + (1-l[1])*(np.log(1 - sig(l[0],p[0],p[1])))).sum()/n)\n",
        "\n",
        "def del_sig_a(l, n, a, b):\n",
        "    s = sig(l[0],a,b)\n",
        "    return ((-l[1]*(1-s) + (1-l[1])*s)*l[0]).sum()/n\n",
        "\n",
        "def del_sig_b(l, n, a, b):\n",
        "    s = sig(l[0],a,b)\n",
        "    return (-l[1]*(1-s) + (1-l[1])*s).sum()/n\n",
        "\n",
        "def sig(x,a,b):\n",
        "    return (1/(1+np.exp(-(a*x + b))))\n",
        "\n",
        "def log_reg(l,r):\n",
        "  n = len(l[0])\n",
        "  l = l.T\n",
        "  mse = []\n",
        "  p = [1,0]\n",
        "  mse.append(MSE_log_reg(l,p,n))\n",
        "  p0 = p[0]\n",
        "  p1 = p[1]\n",
        "  p0_new = p0 - r*del_sig_a(l, n, p0, p1)\n",
        "  p1_new = p1 - r*del_sig_b(l, n, p0, p1)\n",
        "  p = [p0_new,p1_new]\n",
        "  mse.append(MSE_log_reg(l,p,n))\n",
        "  while mse[-2] - mse[-1] > 0.001:\n",
        "    p0 = p0_new\n",
        "    p1 = p1_new\n",
        "    p0_new = p0 - r*del_sig_a(l, n, p0_new, p1_new)\n",
        "    p1_new = p1 - r*del_sig_b(l, n, p0_new, p1_new)\n",
        "    p = [p0_new,p1_new]\n",
        "    mse.append(MSE_log_reg(l,p,n))\n",
        "  return [p0_new, p1_new], mse\n",
        "\n",
        "r = 0.001\n",
        "l = []\n",
        "left = [[x,0] for x in np.arange(1,4,0.01)]\n",
        "right = [[x,1] for x in np.arange(6.01,10.01,0.01)]\n",
        "l = left + right\n",
        "l = np.array(l)\n",
        "n = len(l)\n",
        "p , mse = log_reg(l,r)\n",
        "\n",
        "x = np.arange(0,11,0.01)\n",
        "y = [sig(i,p[0],p[1]) for i in x]\n",
        "plt.plot(x,y, label = 'sigmoid', color = 'b',)\n",
        "plt.scatter(l.T[0],l.T[1], label = 'data', color = 'r', s = 1,)\n",
        "plt.xlabel('x')\n",
        "plt.ylabel('y')\n",
        "plt.legend()\n",
        "plt.show()\n",
        "print()\n",
        "\n",
        "m = len(mse)\n",
        "itr = [i for i in range(m)]\n",
        "plt.plot(itr,mse)\n",
        "plt.xlabel('iterations')\n",
        "plt.ylabel('Error value')\n",
        "plt.show()\n",
        "\n",
        "print()\n",
        "print('The optimal (a,b) for the sigmoid function 1/(1+exp(-(ax + b))) is:')\n",
        "print()\n",
        "print('a = ' + str(p[0]))\n",
        "print('b = ' + str(p[1]))\n",
        "print()\n",
        "print('centre of the sigmoid is at x = -b/a = ' + str(-p[1]/p[0]))"
      ],
      "execution_count": null,
      "outputs": [
        {
          "output_type": "display_data",
          "data": {
            "image/png": "[encoded data removed]",
            "text/plain": [
              "<Figure size 432x288 with 1 Axes>"
            ]
          },
          "metadata": {
            "tags": [],
            "needs_background": "light"
          }
        },
        {
          "output_type": "stream",
          "text": [
            "\n"
          ],
          "name": "stdout"
        },
        {
          "output_type": "display_data",
          "data": {
            "image/png": "[encoded data removed]",
            "text/plain": [
              "<Figure size 432x288 with 1 Axes>"
            ]
          },
          "metadata": {
            "tags": [],
            "needs_background": "light"
          }
        },
        {
          "output_type": "stream",
          "text": [
            "\n",
            "The optimal (a,b) for the sigmoid function 1/(1+exp(-(ax + b))) is:\n",
            "\n",
            "a = 2.4279192888198393\n",
            "b = -11.84585427539086\n",
            "\n",
            "centre of the sigmoid is at x = -b/a = 4.879014854381293\n"
          ],
          "name": "stdout"
        }
      ]
    },
    {
      "cell_type": "code",
      "metadata": {
        "id": "KO0mKUFeHFvR"
      },
      "source": [],
      "execution_count": null,
      "outputs": []
    }
  ]
}